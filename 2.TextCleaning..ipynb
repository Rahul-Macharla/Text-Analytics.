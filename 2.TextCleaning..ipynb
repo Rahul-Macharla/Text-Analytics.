{
 "cells": [
  {
   "cell_type": "markdown",
   "metadata": {},
   "source": [
    "### Cleaning the dataframe (dropping unnecessary columns)."
   ]
  },
  {
   "cell_type": "code",
   "execution_count": 1,
   "metadata": {},
   "outputs": [],
   "source": [
    "# importing neccessary libraries.\n",
    "import numpy as np\n",
    "import pandas as pd\n",
    "import nlp_utils as nu"
   ]
  },
  {
   "cell_type": "code",
   "execution_count": 2,
   "metadata": {},
   "outputs": [],
   "source": [
    "# loading data.\n",
    "df=pd.read_csv('NormalisedDataFrame.csv')"
   ]
  },
  {
   "cell_type": "code",
   "execution_count": 3,
   "metadata": {},
   "outputs": [
    {
     "data": {
      "text/html": [
       "<div>\n",
       "<style scoped>\n",
       "    .dataframe tbody tr th:only-of-type {\n",
       "        vertical-align: middle;\n",
       "    }\n",
       "\n",
       "    .dataframe tbody tr th {\n",
       "        vertical-align: top;\n",
       "    }\n",
       "\n",
       "    .dataframe thead th {\n",
       "        text-align: right;\n",
       "    }\n",
       "</style>\n",
       "<table border=\"1\" class=\"dataframe\">\n",
       "  <thead>\n",
       "    <tr style=\"text-align: right;\">\n",
       "      <th></th>\n",
       "      <th>Unnamed: 0</th>\n",
       "      <th>0</th>\n",
       "      <th>1</th>\n",
       "      <th>2</th>\n",
       "      <th>3</th>\n",
       "      <th>4</th>\n",
       "      <th>5</th>\n",
       "      <th>6</th>\n",
       "    </tr>\n",
       "  </thead>\n",
       "  <tbody>\n",
       "    <tr>\n",
       "      <td>0</td>\n",
       "      <td>0</td>\n",
       "      <td>one of the other reviewers has mentioned that ...</td>\n",
       "      <td>NaN</td>\n",
       "      <td>NaN</td>\n",
       "      <td>NaN</td>\n",
       "      <td>NaN</td>\n",
       "      <td>NaN</td>\n",
       "      <td>NaN</td>\n",
       "    </tr>\n",
       "    <tr>\n",
       "      <td>1</td>\n",
       "      <td>1</td>\n",
       "      <td>0,\"One of the other reviewers has mentioned th...</td>\n",
       "      <td>NaN</td>\n",
       "      <td>NaN</td>\n",
       "      <td>NaN</td>\n",
       "      <td>NaN</td>\n",
       "      <td>NaN</td>\n",
       "      <td>NaN</td>\n",
       "    </tr>\n",
       "    <tr>\n",
       "      <td>2</td>\n",
       "      <td>2</td>\n",
       "      <td>1,\"A wonderful little production. &lt;br /&gt;&lt;br /&gt;...</td>\n",
       "      <td>NaN</td>\n",
       "      <td>NaN</td>\n",
       "      <td>NaN</td>\n",
       "      <td>NaN</td>\n",
       "      <td>NaN</td>\n",
       "      <td>NaN</td>\n",
       "    </tr>\n",
       "    <tr>\n",
       "      <td>3</td>\n",
       "      <td>3</td>\n",
       "      <td>2,\"I thought this was a wonderful way to spend...</td>\n",
       "      <td>NaN</td>\n",
       "      <td>NaN</td>\n",
       "      <td>NaN</td>\n",
       "      <td>NaN</td>\n",
       "      <td>NaN</td>\n",
       "      <td>NaN</td>\n",
       "    </tr>\n",
       "    <tr>\n",
       "      <td>4</td>\n",
       "      <td>4</td>\n",
       "      <td>3,\"Basically there's a family where a little b...</td>\n",
       "      <td>NaN</td>\n",
       "      <td>NaN</td>\n",
       "      <td>NaN</td>\n",
       "      <td>NaN</td>\n",
       "      <td>NaN</td>\n",
       "      <td>NaN</td>\n",
       "    </tr>\n",
       "    <tr>\n",
       "      <td>...</td>\n",
       "      <td>...</td>\n",
       "      <td>...</td>\n",
       "      <td>...</td>\n",
       "      <td>...</td>\n",
       "      <td>...</td>\n",
       "      <td>...</td>\n",
       "      <td>...</td>\n",
       "      <td>...</td>\n",
       "    </tr>\n",
       "    <tr>\n",
       "      <td>997</td>\n",
       "      <td>997</td>\n",
       "      <td>996,\"I hated it. I hate self-aware pretentious...</td>\n",
       "      <td>NaN</td>\n",
       "      <td>NaN</td>\n",
       "      <td>NaN</td>\n",
       "      <td>NaN</td>\n",
       "      <td>NaN</td>\n",
       "      <td>NaN</td>\n",
       "    </tr>\n",
       "    <tr>\n",
       "      <td>998</td>\n",
       "      <td>998</td>\n",
       "      <td>997,\"I usually try to be professional and cons...</td>\n",
       "      <td>NaN</td>\n",
       "      <td>NaN</td>\n",
       "      <td>NaN</td>\n",
       "      <td>NaN</td>\n",
       "      <td>NaN</td>\n",
       "      <td>NaN</td>\n",
       "    </tr>\n",
       "    <tr>\n",
       "      <td>999</td>\n",
       "      <td>999</td>\n",
       "      <td>998,\"If you like me is going to see this in a ...</td>\n",
       "      <td>NaN</td>\n",
       "      <td>NaN</td>\n",
       "      <td>NaN</td>\n",
       "      <td>NaN</td>\n",
       "      <td>NaN</td>\n",
       "      <td>NaN</td>\n",
       "    </tr>\n",
       "    <tr>\n",
       "      <td>1000</td>\n",
       "      <td>1000</td>\n",
       "      <td>999,\"This is like a zoology textbook, given th...</td>\n",
       "      <td>NaN</td>\n",
       "      <td>NaN</td>\n",
       "      <td>NaN</td>\n",
       "      <td>NaN</td>\n",
       "      <td>NaN</td>\n",
       "      <td>NaN</td>\n",
       "    </tr>\n",
       "    <tr>\n",
       "      <td>1001</td>\n",
       "      <td>1001</td>\n",
       "      <td>999,\"This is like a zoology textbook, given th...</td>\n",
       "      <td>NaN</td>\n",
       "      <td>NaN</td>\n",
       "      <td>NaN</td>\n",
       "      <td>NaN</td>\n",
       "      <td>NaN</td>\n",
       "      <td>NaN</td>\n",
       "    </tr>\n",
       "  </tbody>\n",
       "</table>\n",
       "<p>1002 rows × 8 columns</p>\n",
       "</div>"
      ],
      "text/plain": [
       "      Unnamed: 0                                                  0    1    2  \\\n",
       "0              0  one of the other reviewers has mentioned that ...  NaN  NaN   \n",
       "1              1  0,\"One of the other reviewers has mentioned th...  NaN  NaN   \n",
       "2              2  1,\"A wonderful little production. <br /><br />...  NaN  NaN   \n",
       "3              3  2,\"I thought this was a wonderful way to spend...  NaN  NaN   \n",
       "4              4  3,\"Basically there's a family where a little b...  NaN  NaN   \n",
       "...          ...                                                ...  ...  ...   \n",
       "997          997  996,\"I hated it. I hate self-aware pretentious...  NaN  NaN   \n",
       "998          998  997,\"I usually try to be professional and cons...  NaN  NaN   \n",
       "999          999  998,\"If you like me is going to see this in a ...  NaN  NaN   \n",
       "1000        1000  999,\"This is like a zoology textbook, given th...  NaN  NaN   \n",
       "1001        1001  999,\"This is like a zoology textbook, given th...  NaN  NaN   \n",
       "\n",
       "        3    4    5    6  \n",
       "0     NaN  NaN  NaN  NaN  \n",
       "1     NaN  NaN  NaN  NaN  \n",
       "2     NaN  NaN  NaN  NaN  \n",
       "3     NaN  NaN  NaN  NaN  \n",
       "4     NaN  NaN  NaN  NaN  \n",
       "...   ...  ...  ...  ...  \n",
       "997   NaN  NaN  NaN  NaN  \n",
       "998   NaN  NaN  NaN  NaN  \n",
       "999   NaN  NaN  NaN  NaN  \n",
       "1000  NaN  NaN  NaN  NaN  \n",
       "1001  NaN  NaN  NaN  NaN  \n",
       "\n",
       "[1002 rows x 8 columns]"
      ]
     },
     "execution_count": 3,
     "metadata": {},
     "output_type": "execute_result"
    }
   ],
   "source": [
    "df"
   ]
  },
  {
   "cell_type": "code",
   "execution_count": 4,
   "metadata": {},
   "outputs": [],
   "source": [
    "# dropping unnecessary columns.\n",
    "df.drop(['Unnamed: 0','1','2','3','4','5','6'],axis=1,inplace=True)"
   ]
  },
  {
   "cell_type": "code",
   "execution_count": 5,
   "metadata": {},
   "outputs": [],
   "source": [
    "# row 1 has repeated so it is dropped.\n",
    "df.drop(df.index[:1], inplace=True)"
   ]
  },
  {
   "cell_type": "code",
   "execution_count": 6,
   "metadata": {},
   "outputs": [],
   "source": [
    "# row 1000 has repeated aswell, so it is dropped.\n",
    "df.drop(df.index[1000:], inplace=True)"
   ]
  },
  {
   "cell_type": "code",
   "execution_count": 7,
   "metadata": {},
   "outputs": [],
   "source": [
    "# renaming column 0 as \"Text\". \n",
    "df= df.rename(columns={'0': 'Text'})"
   ]
  },
  {
   "cell_type": "code",
   "execution_count": 8,
   "metadata": {},
   "outputs": [],
   "source": [
    "# Replacing special characters with ' '.\n",
    "df.replace('\\d+', '', regex=True, inplace=True)\n",
    "df.replace(',', '', regex=True, inplace=True)\n",
    "df.replace('br', '', regex=True, inplace=True)\n",
    "df.replace('\"', '', regex=True, inplace=True)\n",
    "df.replace(\"'\", '', regex=True, inplace=True)\n",
    "df.replace('?', '', inplace=True)\n",
    "df.replace(\"-\", '', regex=True, inplace=True)\n",
    "df.replace(\"*\", '', inplace=True)\n",
    "df.replace(\"***\", '', inplace=True)\n",
    "df.replace(\"< />\", '', regex=True, inplace=True)"
   ]
  },
  {
   "cell_type": "code",
   "execution_count": 9,
   "metadata": {},
   "outputs": [],
   "source": [
    "df['Text'] = df['Text'].str.strip('[')\n",
    "df['Text'] = df['Text'].str.strip(']')\n",
    "df['Text'] = df['Text'].str.strip(')')\n",
    "df['Text'] = df['Text'].str.strip('(')"
   ]
  },
  {
   "cell_type": "code",
   "execution_count": 10,
   "metadata": {},
   "outputs": [
    {
     "data": {
      "text/html": [
       "<div>\n",
       "<style scoped>\n",
       "    .dataframe tbody tr th:only-of-type {\n",
       "        vertical-align: middle;\n",
       "    }\n",
       "\n",
       "    .dataframe tbody tr th {\n",
       "        vertical-align: top;\n",
       "    }\n",
       "\n",
       "    .dataframe thead th {\n",
       "        text-align: right;\n",
       "    }\n",
       "</style>\n",
       "<table border=\"1\" class=\"dataframe\">\n",
       "  <thead>\n",
       "    <tr style=\"text-align: right;\">\n",
       "      <th></th>\n",
       "      <th>Text</th>\n",
       "    </tr>\n",
       "  </thead>\n",
       "  <tbody>\n",
       "    <tr>\n",
       "      <td>1</td>\n",
       "      <td>One of the other reviewers has mentioned that ...</td>\n",
       "    </tr>\n",
       "    <tr>\n",
       "      <td>2</td>\n",
       "      <td>A wonderful little production. The filming tec...</td>\n",
       "    </tr>\n",
       "    <tr>\n",
       "      <td>3</td>\n",
       "      <td>I thought this was a wonderful way to spend ti...</td>\n",
       "    </tr>\n",
       "    <tr>\n",
       "      <td>4</td>\n",
       "      <td>Basically theres a family where a little boy (...</td>\n",
       "    </tr>\n",
       "    <tr>\n",
       "      <td>5</td>\n",
       "      <td>Petter Matteis Love in the Time of Money is a ...</td>\n",
       "    </tr>\n",
       "    <tr>\n",
       "      <td>...</td>\n",
       "      <td>...</td>\n",
       "    </tr>\n",
       "    <tr>\n",
       "      <td>996</td>\n",
       "      <td>Nothing is sacred. Just ask Ernie Fosselius. T...</td>\n",
       "    </tr>\n",
       "    <tr>\n",
       "      <td>997</td>\n",
       "      <td>I hated it. I hate selfaware pretentious inani...</td>\n",
       "    </tr>\n",
       "    <tr>\n",
       "      <td>998</td>\n",
       "      <td>I usually try to be professional and construct...</td>\n",
       "    </tr>\n",
       "    <tr>\n",
       "      <td>999</td>\n",
       "      <td>If you like me is going to see this in a film ...</td>\n",
       "    </tr>\n",
       "    <tr>\n",
       "      <td>1000</td>\n",
       "      <td>This is like a zoology textbook given that its...</td>\n",
       "    </tr>\n",
       "  </tbody>\n",
       "</table>\n",
       "<p>1000 rows × 1 columns</p>\n",
       "</div>"
      ],
      "text/plain": [
       "                                                   Text\n",
       "1     One of the other reviewers has mentioned that ...\n",
       "2     A wonderful little production. The filming tec...\n",
       "3     I thought this was a wonderful way to spend ti...\n",
       "4     Basically theres a family where a little boy (...\n",
       "5     Petter Matteis Love in the Time of Money is a ...\n",
       "...                                                 ...\n",
       "996   Nothing is sacred. Just ask Ernie Fosselius. T...\n",
       "997   I hated it. I hate selfaware pretentious inani...\n",
       "998   I usually try to be professional and construct...\n",
       "999   If you like me is going to see this in a film ...\n",
       "1000  This is like a zoology textbook given that its...\n",
       "\n",
       "[1000 rows x 1 columns]"
      ]
     },
     "execution_count": 10,
     "metadata": {},
     "output_type": "execute_result"
    }
   ],
   "source": [
    "df"
   ]
  },
  {
   "cell_type": "code",
   "execution_count": 11,
   "metadata": {},
   "outputs": [],
   "source": [
    "df['Text'] = df['Text'].apply(nu.lemmatization_sentence)"
   ]
  },
  {
   "cell_type": "code",
   "execution_count": 12,
   "metadata": {},
   "outputs": [
    {
     "data": {
      "text/plain": [
       "1       one of the other reviewer have mention that af...\n",
       "2       a wonderful little production the filming tech...\n",
       "3       i think this be a wonderful way to spend time ...\n",
       "4       basically theres a family where a little boy j...\n",
       "5       petter matteis love in the time of money be a ...\n",
       "                              ...                        \n",
       "996     nothing be sacred just ask ernie fosselius the...\n",
       "997     i hat it i hate selfaware pretentious inanity ...\n",
       "998     i usually try to be professional and construct...\n",
       "999     if you like me be go to see this in a film his...\n",
       "1000    this be like a zoology textbook give that it d...\n",
       "Name: Text, Length: 1000, dtype: object"
      ]
     },
     "execution_count": 12,
     "metadata": {},
     "output_type": "execute_result"
    }
   ],
   "source": [
    "df['Text']"
   ]
  },
  {
   "cell_type": "code",
   "execution_count": 13,
   "metadata": {},
   "outputs": [],
   "source": [
    "dfw = pd.DataFrame(df)\n",
    "  \n",
    "#saving the dataframe \n",
    "dfw.to_csv('CleanedDataFrame.csv') "
   ]
  }
 ],
 "metadata": {
  "kernelspec": {
   "display_name": "Python 3",
   "language": "python",
   "name": "python3"
  },
  "language_info": {
   "codemirror_mode": {
    "name": "ipython",
    "version": 3
   },
   "file_extension": ".py",
   "mimetype": "text/x-python",
   "name": "python",
   "nbconvert_exporter": "python",
   "pygments_lexer": "ipython3",
   "version": "3.7.4"
  }
 },
 "nbformat": 4,
 "nbformat_minor": 2
}
